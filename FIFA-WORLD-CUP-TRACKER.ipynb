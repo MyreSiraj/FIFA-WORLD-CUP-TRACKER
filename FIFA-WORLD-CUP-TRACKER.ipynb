{
 "cells": [
  {
   "cell_type": "code",
   "execution_count": 1,
   "metadata": {},
   "outputs": [],
   "source": [
    "import pandas as pd\n",
    "import plotly.express as px\n",
    "import dash\n",
    "from dash import dcc, html\n",
    "from dash.dependencies import Input, Output"
   ]
  },
  {
   "cell_type": "code",
   "execution_count": 2,
   "metadata": {},
   "outputs": [],
   "source": [
    "data = {\n",
    "    \"Year\": [2022, 2018, 2014, 2010, 2006, 2002, 1998, 1994, 1990, 1986, 1982, 1978, 1974, 1970, 1966, 1962, 1958, 1954, 1950, 1938, 1934, 1930],\n",
    "    \"Winner\": [\"Argentina\", \"France\", \"Germany\", \"Spain\", \"Italy\", \"Brazil\", \"France\", \"Brazil\", \"Germany\", \"Argentina\", \n",
    "               \"Italy\", \"Argentina\", \"Germany\", \"Brazil\", \"United Kingdom\", \"Brazil\", \"Brazil\", \"Germany\", \"Uruguay\", \"Italy\", \n",
    "               \"Italy\", \"Uruguay\"],\n",
    "    \"Runner-up\": [\"France\", \"Croatia\", \"Argentina\", \"Netherlands\", \"France\", \"Germany\", \"Brazil\", \"Italy\", \"Argentina\", \n",
    "                  \"West Germany\", \"West Germany\", \"Netherlands\", \"Netherlands\", \"Italy\", \"West Germany\", \"Czechoslovakia\", \n",
    "                  \"Sweden\", \"Hungary\", \"Brazil\", \"Hungary\", \"Czechoslovakia\", \"Argentina\"]\n",
    "}\n",
    "\n",
    "df = pd.DataFrame(data)\n",
    "\n",
    "winners_count = df[\"Winner\"].value_counts().reset_index()\n",
    "winners_count.columns = [\"Country\", \"Wins\"]"
   ]
  },
  {
   "cell_type": "code",
   "execution_count": 3,
   "metadata": {},
   "outputs": [],
   "source": [
    "app = dash.Dash(__name__)"
   ]
  },
  {
   "cell_type": "code",
   "execution_count": 4,
   "metadata": {},
   "outputs": [],
   "source": [
    "app.layout = html.Div([\n",
    "    html.H1(\"FIFA World Cup Dashboard\", style={'textAlign': 'center', 'color': 'white'}),\n",
    "\n",
    "    dcc.Graph(id=\"world_map\"),\n",
    "\n",
    "    dcc.Dropdown(\n",
    "        id=\"country_dropdown\",\n",
    "        options=[{\"label\": c, \"value\": c} for c in winners_count[\"Country\"]],\n",
    "        placeholder=\"Select a Country\",\n",
    "    ),\n",
    "    html.Div(id=\"country_wins\", style={'color': 'white'}),\n",
    "\n",
    "    dcc.Dropdown(\n",
    "        id=\"year_dropdown\",\n",
    "        options=[{\"label\": str(y), \"value\": y} for y in df[\"Year\"].unique()],\n",
    "        placeholder=\"Select a Year\",\n",
    "    ),\n",
    "    html.Div(id=\"year_results\", style={'color': 'white'}),\n",
    "])\n"
   ]
  },
  {
   "cell_type": "code",
   "execution_count": 5,
   "metadata": {},
   "outputs": [],
   "source": [
    "@app.callback(\n",
    "    Output(\"world_map\", \"figure\"),\n",
    "    [Input(\"country_dropdown\", \"value\"),\n",
    "     Input(\"year_dropdown\", \"value\")]\n",
    ")\n",
    "     \n",
    "def update_map(selected_country, selected_year):\n",
    "\n",
    "    filtered_df = winners_count.copy()\n",
    "\n",
    "    if selected_country:\n",
    "        filtered_df = filtered_df[filtered_df[\"Country\"] == selected_country]\n",
    "    \n",
    "    if selected_year:\n",
    "        year_data = df[df[\"Year\"] == selected_year]\n",
    "        winner = year_data[\"Winner\"].values[0]\n",
    "        runner_up = year_data[\"Runner-up\"].values[0]\n",
    "        \n",
    "        filtered_df = pd.DataFrame({\"Country\": [winner, runner_up], \"Wins\": [1, 0]})\n",
    "\n",
    "    fig = px.choropleth(\n",
    "        filtered_df, \n",
    "        locations=\"Country\", \n",
    "        locationmode=\"country names\",\n",
    "        color=\"Wins\", \n",
    "        title=\"FIFA World Cup Wins\",\n",
    "        color_continuous_scale=\"reds\",\n",
    "        hover_name=\"Country\",\n",
    "        hover_data={\"Country\": False, \"Wins\": True}\n",
    "    )\n",
    "    \n",
    "    return fig"
   ]
  },
  {
   "cell_type": "code",
   "execution_count": 6,
   "metadata": {},
   "outputs": [],
   "source": [
    "@app.callback(\n",
    "    Output(\"country_wins\", \"children\"),\n",
    "    Input(\"country_dropdown\", \"value\")\n",
    ")\n",
    "def display_country_wins(selected_country):\n",
    "    if selected_country:\n",
    "        wins = winners_count[winners_count[\"Country\"] == selected_country][\"Wins\"].values[0]\n",
    "        return f\"{selected_country} has won {wins} times.\"\n",
    "    return \"Select a country to see the number of wins.\""
   ]
  },
  {
   "cell_type": "code",
   "execution_count": 7,
   "metadata": {},
   "outputs": [],
   "source": [
    "@app.callback(\n",
    "    Output(\"year_results\", \"children\"),\n",
    "    Input(\"year_dropdown\", \"value\")\n",
    ")\n",
    "def display_year_results(selected_year):\n",
    "    if selected_year:\n",
    "        row = df[df[\"Year\"] == selected_year]\n",
    "        winner = row[\"Winner\"].values[0]\n",
    "        runner_up = row[\"Runner-up\"].values[0]\n",
    "        return f\"In {selected_year}, {winner} won against {runner_up}.\"\n",
    "    return \"Select a year to see the winner and runner-up.\""
   ]
  },
  {
   "cell_type": "code",
   "execution_count": 8,
   "metadata": {},
   "outputs": [
    {
     "data": {
      "text/html": [
       "\n",
       "        <iframe\n",
       "            width=\"100%\"\n",
       "            height=\"650\"\n",
       "            src=\"http://127.0.0.1:8050/\"\n",
       "            frameborder=\"0\"\n",
       "            allowfullscreen\n",
       "            \n",
       "        ></iframe>\n",
       "        "
      ],
      "text/plain": [
       "<IPython.lib.display.IFrame at 0x2803fcb0>"
      ]
     },
     "metadata": {},
     "output_type": "display_data"
    }
   ],
   "source": [
    "if __name__ == \"__main__\":\n",
    "    app.run(debug=True)"
   ]
  }
 ],
 "metadata": {
  "kernelspec": {
   "display_name": "Python 3",
   "language": "python",
   "name": "python3"
  },
  "language_info": {
   "codemirror_mode": {
    "name": "ipython",
    "version": 3
   },
   "file_extension": ".py",
   "mimetype": "text/x-python",
   "name": "python",
   "nbconvert_exporter": "python",
   "pygments_lexer": "ipython3",
   "version": "3.13.0"
  }
 },
 "nbformat": 4,
 "nbformat_minor": 2
}
